{
 "cells": [
  {
   "cell_type": "code",
   "execution_count": 1,
   "metadata": {},
   "outputs": [],
   "source": [
    "import numpy as np\n",
    "import matplotlib.pyplot as plt\n",
    "import math\n",
    "import os\n",
    "\n",
    "npzfile_group = np.load('D:/PycharmProjects/GPUpy/Qiu_data/Iso_Eik_Rayleigh_group.npz')\n",
    "npzfile_phase = np.load('D:/PycharmProjects/GPUpy/Qiu_data/Iso_Eik_Rayleigh_phase.npz')\n",
    "lon_arr = npzfile_phase['lon_arr']\n",
    "lat_arr = npzfile_phase['lat_arr']\n",
    "un_arr = npzfile_phase['un_arr']\n",
    "\n",
    "glob_path = 'D:/PycharmProjects/GPUpy/Qiu_data/CVMHTrainingDataset/Final_dispersions/'\n",
    "obs_path = glob_path + 'disp_True/'\n",
    "#syn_path = glob_path + 'disp_Qiu/'\n",
    "#syn_path = glob_path + 'disp_CNN/'\n",
    "#syn_path = glob_path + 'disp_GAN/'\n",
    "syn_path = glob_path + 'disp_WCGAN/'\n",
    "#syn_path = glob_path + 'disp_WCGAN_pos/'\n",
    "#syn_path = glob_path + 'disp_WCGAN_grid01/'\n",
    "#syn_path = glob_path + 'disp_CVMH/'\n",
    "#syn_path = glob_path + 'disp_WCGAN_chi_1075/'\n",
    "#syn_path = glob_path + 'disp_WCGAN_chi_1300/'\n",
    "#syn_path = glob_path + 'disp_WCGAN_pos_chi_1200/'\n",
    "\n",
    "lon_val = lon_arr[:,0]\n",
    "lat_val = lat_arr[0,:]"
   ]
  },
  {
   "cell_type": "code",
   "execution_count": 2,
   "metadata": {},
   "outputs": [],
   "source": [
    "def chi_square_misfit(disp_obs, disp_syn):\n",
    "    n = disp_obs.shape[0]\n",
    "    ph_obs = disp_obs[:,1]\n",
    "    gp_obs = disp_obs[:,2]\n",
    "    ph_un = disp_obs[:,3]\n",
    "    gp_un = disp_obs[:,4]\n",
    "    ph_syn = disp_syn[:,1]\n",
    "    gp_syn = disp_syn[:,2]\n",
    "    diff1 = (ph_syn-ph_obs)/ph_un\n",
    "    diff2 = (gp_syn-gp_obs)/gp_un\n",
    "    mis_val = math.sqrt(np.sum(diff1**2+diff2**2)/(2*n))\n",
    "#    mis_val = np.sum(diff1**2+diff2**2)/(2*n)\n",
    "    return mis_val"
   ]
  },
  {
   "cell_type": "code",
   "execution_count": null,
   "metadata": {},
   "outputs": [],
   "source": [
    "ntest = 4076\n",
    "count = 0\n",
    "misfit = 0\n",
    "mis_list = []\n",
    "x = float('NaN')\n",
    "misfit_map = np.zeros((151,91))\n",
    "for i in range(151):\n",
    "    for j in range(91):\n",
    "        misfit_map[i,j] = x\n",
    "\n",
    "filenames = os.listdir(syn_path)\n",
    "for lon_idx in range(151):\n",
    "    for lat_idx in range(91):\n",
    "        lon = lon_val[lon_idx]\n",
    "        lat = lat_val[lat_idx]\n",
    "        file_tmp = '1_%3.3f_%3.3f.txt' % (lat, lon+360)\n",
    "        if file_tmp in filenames:\n",
    "            try:\n",
    "                disp_obs = np.loadtxt(obs_path+file_tmp[2:])\n",
    "                disp_syn = np.loadtxt(syn_path+file_tmp)\n",
    "            except:\n",
    "                continue\n",
    "            mis_val = chi_square_misfit(disp_obs, disp_syn)\n",
    "            misfit_map[lon_idx,lat_idx] = mis_val\n",
    "            misfit += mis_val\n",
    "#            if mis_val > 4.0:\n",
    "#                mis_val=4.0\n",
    "            mis_list.append(mis_val)\n",
    "            count += 1\n",
    "print(count)\n",
    "print(misfit/ntest)"
   ]
  },
  {
   "cell_type": "code",
   "execution_count": 69,
   "metadata": {},
   "outputs": [],
   "source": [
    "misfit_path = 'D:/PycharmProjects/GPUpy/Qiu_data/CVMHTrainingDataset/Figure/misfit/'\n",
    "np.save(misfit_path+'Qiu_misfit_list.npy',mis_list)"
   ]
  },
  {
   "cell_type": "markdown",
   "metadata": {},
   "source": [
    "print(lon_val.shape, lat_val.shape)\n",
    "plt.figure(figsize=(10,10))\n",
    "plt.imshow(misfit_map, cmap='rainbow', aspect='auto')\n",
    "plt.colorbar()\n",
    "plt.clim([0,4])"
   ]
  },
  {
   "cell_type": "code",
   "execution_count": 75,
   "metadata": {},
   "outputs": [
    {
     "name": "stdout",
     "output_type": "stream",
     "text": [
      "17.030341926778764\n",
      "17.030341926778764\n"
     ]
    }
   ],
   "source": [
    "print(np.nanmax(misfit_map))\n",
    "print(np.max(mis_list))"
   ]
  },
  {
   "cell_type": "code",
   "execution_count": 1,
   "metadata": {},
   "outputs": [
    {
     "ename": "NameError",
     "evalue": "name 'np' is not defined",
     "output_type": "error",
     "traceback": [
      "\u001b[1;31m---------------------------------------------------------------------------\u001b[0m",
      "\u001b[1;31mNameError\u001b[0m                                 Traceback (most recent call last)",
      "\u001b[1;32m<ipython-input-1-5f1eed1f993f>\u001b[0m in \u001b[0;36m<module>\u001b[1;34m\u001b[0m\n\u001b[0;32m      1\u001b[0m \u001b[0mmisfit_path\u001b[0m \u001b[1;33m=\u001b[0m \u001b[1;34m'D:/PycharmProjects/GPUpy/Qiu_data/CVMHTrainingDataset/Figure/misfit/'\u001b[0m\u001b[1;33m\u001b[0m\u001b[1;33m\u001b[0m\u001b[0m\n\u001b[1;32m----> 2\u001b[1;33m \u001b[0mnp\u001b[0m\u001b[1;33m.\u001b[0m\u001b[0msave\u001b[0m\u001b[1;33m(\u001b[0m\u001b[0mmisfit_path\u001b[0m\u001b[1;33m+\u001b[0m\u001b[1;34m'WCGAN_grid01_misfit.npy'\u001b[0m\u001b[1;33m,\u001b[0m\u001b[0mmisfit_map\u001b[0m\u001b[1;33m)\u001b[0m\u001b[1;33m\u001b[0m\u001b[1;33m\u001b[0m\u001b[0m\n\u001b[0m",
      "\u001b[1;31mNameError\u001b[0m: name 'np' is not defined"
     ]
    }
   ],
   "source": [
    "misfit_path = 'D:/PycharmProjects/GPUpy/Qiu_data/CVMHTrainingDataset/Figure/misfit/'\n",
    "np.save(misfit_path+'WCGAN_grid01_misfit.npy',misfit_map)"
   ]
  },
  {
   "cell_type": "code",
   "execution_count": 3,
   "metadata": {},
   "outputs": [],
   "source": [
    "misfit_map = np.load(misfit_path+'WCGAN_misfit.npy')"
   ]
  },
  {
   "cell_type": "code",
   "execution_count": 4,
   "metadata": {
    "scrolled": true
   },
   "outputs": [
    {
     "ename": "NameError",
     "evalue": "name 'mis_list' is not defined",
     "output_type": "error",
     "traceback": [
      "\u001b[1;31m---------------------------------------------------------------------------\u001b[0m",
      "\u001b[1;31mNameError\u001b[0m                                 Traceback (most recent call last)",
      "\u001b[1;32m<ipython-input-4-dd147d2a5186>\u001b[0m in \u001b[0;36m<module>\u001b[1;34m\u001b[0m\n\u001b[0;32m      2\u001b[0m \u001b[0mplt\u001b[0m\u001b[1;33m.\u001b[0m\u001b[0mfigure\u001b[0m\u001b[1;33m(\u001b[0m\u001b[0mfigsize\u001b[0m\u001b[1;33m=\u001b[0m\u001b[1;33m(\u001b[0m\u001b[1;36m8\u001b[0m\u001b[1;33m,\u001b[0m\u001b[1;36m8\u001b[0m\u001b[1;33m)\u001b[0m\u001b[1;33m)\u001b[0m\u001b[1;33m\u001b[0m\u001b[1;33m\u001b[0m\u001b[0m\n\u001b[0;32m      3\u001b[0m \u001b[1;32mimport\u001b[0m \u001b[0mscipy\u001b[0m\u001b[1;33m.\u001b[0m\u001b[0mstats\u001b[0m \u001b[1;32mas\u001b[0m \u001b[0mst\u001b[0m\u001b[1;33m\u001b[0m\u001b[1;33m\u001b[0m\u001b[0m\n\u001b[1;32m----> 4\u001b[1;33m \u001b[0mplt\u001b[0m\u001b[1;33m.\u001b[0m\u001b[0mhist\u001b[0m\u001b[1;33m(\u001b[0m\u001b[0mmis_list\u001b[0m\u001b[1;33m,\u001b[0m \u001b[0mdensity\u001b[0m\u001b[1;33m=\u001b[0m\u001b[1;32mFalse\u001b[0m\u001b[1;33m,\u001b[0m \u001b[0mrange\u001b[0m\u001b[1;33m=\u001b[0m\u001b[1;33m(\u001b[0m\u001b[1;36m0\u001b[0m\u001b[1;33m,\u001b[0m\u001b[1;36m4\u001b[0m\u001b[1;33m)\u001b[0m\u001b[1;33m,\u001b[0m \u001b[0mbins\u001b[0m\u001b[1;33m=\u001b[0m\u001b[1;36m30\u001b[0m\u001b[1;33m,\u001b[0m \u001b[0mlabel\u001b[0m\u001b[1;33m=\u001b[0m\u001b[1;34m\"WCGAN pos\"\u001b[0m\u001b[1;33m)\u001b[0m\u001b[1;33m\u001b[0m\u001b[1;33m\u001b[0m\u001b[0m\n\u001b[0m\u001b[0;32m      5\u001b[0m \u001b[0mplt\u001b[0m\u001b[1;33m.\u001b[0m\u001b[0mlegend\u001b[0m\u001b[1;33m(\u001b[0m\u001b[0mloc\u001b[0m\u001b[1;33m=\u001b[0m\u001b[1;34m\"upper right\"\u001b[0m\u001b[1;33m,\u001b[0m \u001b[0mfontsize\u001b[0m\u001b[1;33m=\u001b[0m\u001b[1;36m26\u001b[0m\u001b[1;33m)\u001b[0m\u001b[1;33m\u001b[0m\u001b[1;33m\u001b[0m\u001b[0m\n\u001b[0;32m      6\u001b[0m \u001b[0mplt\u001b[0m\u001b[1;33m.\u001b[0m\u001b[0mylabel\u001b[0m\u001b[1;33m(\u001b[0m\u001b[1;34m'Frequency'\u001b[0m\u001b[1;33m,\u001b[0m\u001b[0mfontsize\u001b[0m\u001b[1;33m=\u001b[0m\u001b[1;36m26\u001b[0m\u001b[1;33m)\u001b[0m\u001b[1;33m\u001b[0m\u001b[1;33m\u001b[0m\u001b[0m\n",
      "\u001b[1;31mNameError\u001b[0m: name 'mis_list' is not defined"
     ]
    },
    {
     "data": {
      "text/plain": [
       "<Figure size 576x576 with 0 Axes>"
      ]
     },
     "metadata": {},
     "output_type": "display_data"
    }
   ],
   "source": [
    "misfit_path = 'D:/PycharmProjects/GPUpy/Qiu_data/CVMHTrainingDataset/Figure/Final_figures/'\n",
    "plt.figure(figsize=(8,8))\n",
    "import scipy.stats as st\n",
    "plt.hist(mis_list, density=False, range=(0,4), bins=30, label=\"WCGAN pos\")\n",
    "plt.legend(loc=\"upper right\", fontsize=26)\n",
    "plt.ylabel('Frequency',fontsize=26)\n",
    "#plt.xlabel('$\\chi$ misfit', fontsize=26)\n",
    "plt.xlabel('$\\chi$ misfit', fontsize=26)\n",
    "plt.title(\"Histogram\",fontsize=26);\n",
    "#plt.text(1.8, 300, 'Normalized $\\chi^{2}$ misfit\\n         0.899', fontsize=26)\n",
    "#plt.text(1.8, 300, 'Mean misfit\\n    0.899', fontsize=32)\n",
    "plt.xlim([0,4])\n",
    "plt.tick_params(labelsize=18)\n",
    "plt.savefig(misfit_path+'hist_WCGAN_pos_Chi.jpeg', format='jpeg', quality=95)\n",
    "plt.show()"
   ]
  },
  {
   "cell_type": "code",
   "execution_count": 4,
   "metadata": {},
   "outputs": [
    {
     "name": "stdout",
     "output_type": "stream",
     "text": [
      "851\n"
     ]
    }
   ],
   "source": [
    "print(count)"
   ]
  },
  {
   "cell_type": "code",
   "execution_count": 5,
   "metadata": {},
   "outputs": [
    {
     "name": "stdout",
     "output_type": "stream",
     "text": [
      "1_34.650_241.650.txt\n"
     ]
    }
   ],
   "source": [
    "print(file_tmp)"
   ]
  },
  {
   "cell_type": "code",
   "execution_count": 28,
   "metadata": {},
   "outputs": [
    {
     "name": "stdout",
     "output_type": "stream",
     "text": [
      "22580\n"
     ]
    }
   ],
   "source": [
    "file_train_path = 'D:/PycharmProjects/GPUpy/Qiu_data/CVMHTrainingDataset/'\n",
    "filename = 'file_train.txt'\n",
    "file = open(file_train_path+filename, 'r')\n",
    "lst = file.readlines()\n",
    "file.close()\n",
    "out = lst[0].split(',')\n",
    "print(len(out))"
   ]
  },
  {
   "cell_type": "code",
   "execution_count": null,
   "metadata": {},
   "outputs": [],
   "source": []
  }
 ],
 "metadata": {
  "kernelspec": {
   "display_name": "Python 3 (ipykernel)",
   "language": "python",
   "name": "python3"
  },
  "language_info": {
   "codemirror_mode": {
    "name": "ipython",
    "version": 3
   },
   "file_extension": ".py",
   "mimetype": "text/x-python",
   "name": "python",
   "nbconvert_exporter": "python",
   "pygments_lexer": "ipython3",
   "version": "3.9.13"
  }
 },
 "nbformat": 4,
 "nbformat_minor": 2
}
